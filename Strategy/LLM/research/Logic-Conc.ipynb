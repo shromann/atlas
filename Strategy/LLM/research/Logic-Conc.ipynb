{
 "cells": [
  {
   "cell_type": "markdown",
   "metadata": {},
   "source": [
    "# Logical Conclusion Model\n",
    "---"
   ]
  },
  {
   "cell_type": "code",
   "execution_count": 2,
   "metadata": {},
   "outputs": [],
   "source": [
    "file_path = '../data/dummy.txt'\n",
    "\n",
    "def process_raw_news(news):\n",
    "    news = news\\\n",
    "            .replace('\\n', '')\\\n",
    "            .lower()\n",
    "    return news\n",
    "\n",
    "with open(file_path, 'r') as file:\n",
    "    raw_news = process_raw_news(file.read())\n",
    "\n",
    "news = process_raw_news(raw_news)"
   ]
  },
  {
   "cell_type": "code",
   "execution_count": 7,
   "metadata": {},
   "outputs": [],
   "source": [
    "sentences = news.split('.')"
   ]
  }
 ],
 "metadata": {
  "kernelspec": {
   "display_name": ".venv",
   "language": "python",
   "name": "python3"
  },
  "language_info": {
   "codemirror_mode": {
    "name": "ipython",
    "version": 3
   },
   "file_extension": ".py",
   "mimetype": "text/x-python",
   "name": "python",
   "nbconvert_exporter": "python",
   "pygments_lexer": "ipython3",
   "version": "3.9.6"
  }
 },
 "nbformat": 4,
 "nbformat_minor": 2
}
